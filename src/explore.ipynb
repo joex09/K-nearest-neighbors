{
    "cells": [
        {
            "cell_type": "markdown",
            "metadata": {},
            "source": [
                "# KNN"
            ]
        },
        {
            "cell_type": "code",
            "execution_count": 16,
            "metadata": {},
            "outputs": [],
            "source": [
                "import pandas as pd \n",
                "import numpy as np\n",
                "import matplotlib.pyplot as plt\n",
                "import seaborn as sns\n",
                "import sklearn\n",
                "import ast\n",
                "\n",
                "from sklearn.metrics.pairwise import cosine_similarity\n",
                "from sklearn.feature_extraction.text import CountVectorizer"
            ]
        },
        {
            "cell_type": "markdown",
            "metadata": {},
            "source": [
                "Step 1: Load dataset"
            ]
        },
        {
            "cell_type": "code",
            "execution_count": 2,
            "metadata": {},
            "outputs": [],
            "source": [
                "url_mov='https://raw.githubusercontent.com/4GeeksAcademy/k-nearest-neighbors-project-tutorial/main/tmdb_5000_movies.csv'\n",
                "url_cred='https://raw.githubusercontent.com/4GeeksAcademy/k-nearest-neighbors-project-tutorial/main/tmdb_5000_credits.csv'\n",
                "\n",
                "movies = pd.read_csv(url_mov)\n",
                "credits = pd.read_csv(url_cred)"
            ]
        },
        {
            "cell_type": "markdown",
            "metadata": {},
            "source": [
                "Step 2: Explore both dataset"
            ]
        },
        {
            "cell_type": "code",
            "execution_count": 3,
            "metadata": {},
            "outputs": [
                {
                    "data": {
                        "text/html": [
                            "<div>\n",
                            "<style scoped>\n",
                            "    .dataframe tbody tr th:only-of-type {\n",
                            "        vertical-align: middle;\n",
                            "    }\n",
                            "\n",
                            "    .dataframe tbody tr th {\n",
                            "        vertical-align: top;\n",
                            "    }\n",
                            "\n",
                            "    .dataframe thead th {\n",
                            "        text-align: right;\n",
                            "    }\n",
                            "</style>\n",
                            "<table border=\"1\" class=\"dataframe\">\n",
                            "  <thead>\n",
                            "    <tr style=\"text-align: right;\">\n",
                            "      <th></th>\n",
                            "      <th>budget</th>\n",
                            "      <th>genres</th>\n",
                            "      <th>homepage</th>\n",
                            "      <th>id</th>\n",
                            "      <th>keywords</th>\n",
                            "      <th>original_language</th>\n",
                            "      <th>original_title</th>\n",
                            "      <th>overview</th>\n",
                            "      <th>popularity</th>\n",
                            "      <th>production_companies</th>\n",
                            "      <th>production_countries</th>\n",
                            "      <th>release_date</th>\n",
                            "      <th>revenue</th>\n",
                            "      <th>runtime</th>\n",
                            "      <th>spoken_languages</th>\n",
                            "      <th>status</th>\n",
                            "      <th>tagline</th>\n",
                            "      <th>title</th>\n",
                            "      <th>vote_average</th>\n",
                            "      <th>vote_count</th>\n",
                            "    </tr>\n",
                            "  </thead>\n",
                            "  <tbody>\n",
                            "    <tr>\n",
                            "      <th>867</th>\n",
                            "      <td>54000000</td>\n",
                            "      <td>[{\"id\": 80, \"name\": \"Crime\"}, {\"id\": 18, \"name...</td>\n",
                            "      <td>http://www.imdb.com/title/tt0099674/</td>\n",
                            "      <td>242</td>\n",
                            "      <td>[{\"id\": 131, \"name\": \"italy\"}, {\"id\": 186, \"na...</td>\n",
                            "      <td>en</td>\n",
                            "      <td>The Godfather: Part III</td>\n",
                            "      <td>In the midst of trying to legitimize his busin...</td>\n",
                            "      <td>59.194915</td>\n",
                            "      <td>[{\"name\": \"Paramount Pictures\", \"id\": 4}]</td>\n",
                            "      <td>[{\"iso_3166_1\": \"IT\", \"name\": \"Italy\"}, {\"iso_...</td>\n",
                            "      <td>1990-12-24</td>\n",
                            "      <td>136766062</td>\n",
                            "      <td>162.0</td>\n",
                            "      <td>[{\"iso_639_1\": \"en\", \"name\": \"English\"}, {\"iso...</td>\n",
                            "      <td>Released</td>\n",
                            "      <td>All the power on earth can't change destiny.</td>\n",
                            "      <td>The Godfather: Part III</td>\n",
                            "      <td>7.1</td>\n",
                            "      <td>1546</td>\n",
                            "    </tr>\n",
                            "    <tr>\n",
                            "      <th>294</th>\n",
                            "      <td>100000000</td>\n",
                            "      <td>[{\"id\": 16, \"name\": \"Animation\"}, {\"id\": 12, \"...</td>\n",
                            "      <td>NaN</td>\n",
                            "      <td>116711</td>\n",
                            "      <td>[{\"id\": 2486, \"name\": \"fantasy\"}, {\"id\": 15907...</td>\n",
                            "      <td>en</td>\n",
                            "      <td>Epic</td>\n",
                            "      <td>A teenager finds herself transported to a deep...</td>\n",
                            "      <td>36.711378</td>\n",
                            "      <td>[{\"name\": \"Blue Sky Studios\", \"id\": 9383}, {\"n...</td>\n",
                            "      <td>[{\"iso_3166_1\": \"US\", \"name\": \"United States o...</td>\n",
                            "      <td>2013-05-15</td>\n",
                            "      <td>268426634</td>\n",
                            "      <td>102.0</td>\n",
                            "      <td>[{\"iso_639_1\": \"en\", \"name\": \"English\"}]</td>\n",
                            "      <td>Released</td>\n",
                            "      <td>Discover a world beyond your imagination</td>\n",
                            "      <td>Epic</td>\n",
                            "      <td>6.4</td>\n",
                            "      <td>1121</td>\n",
                            "    </tr>\n",
                            "    <tr>\n",
                            "      <th>1662</th>\n",
                            "      <td>18000000</td>\n",
                            "      <td>[{\"id\": 10752, \"name\": \"War\"}]</td>\n",
                            "      <td>NaN</td>\n",
                            "      <td>9665</td>\n",
                            "      <td>[{\"id\": 6091, \"name\": \"war\"}, {\"id\": 12425, \"n...</td>\n",
                            "      <td>en</td>\n",
                            "      <td>Glory</td>\n",
                            "      <td>Robert Gould Shaw leads the US Civil War's fir...</td>\n",
                            "      <td>16.102271</td>\n",
                            "      <td>[{\"name\": \"TriStar Pictures\", \"id\": 559}, {\"na...</td>\n",
                            "      <td>[{\"iso_3166_1\": \"US\", \"name\": \"United States o...</td>\n",
                            "      <td>1989-12-15</td>\n",
                            "      <td>26828365</td>\n",
                            "      <td>122.0</td>\n",
                            "      <td>[{\"iso_639_1\": \"en\", \"name\": \"English\"}]</td>\n",
                            "      <td>Released</td>\n",
                            "      <td>Their innocence. Their heritage. Their lives.</td>\n",
                            "      <td>Glory</td>\n",
                            "      <td>7.4</td>\n",
                            "      <td>383</td>\n",
                            "    </tr>\n",
                            "    <tr>\n",
                            "      <th>2040</th>\n",
                            "      <td>30000000</td>\n",
                            "      <td>[{\"id\": 18, \"name\": \"Drama\"}, {\"id\": 53, \"name...</td>\n",
                            "      <td>NaN</td>\n",
                            "      <td>2176</td>\n",
                            "      <td>[{\"id\": 387, \"name\": \"california\"}, {\"id\": 115...</td>\n",
                            "      <td>en</td>\n",
                            "      <td>The Glass House</td>\n",
                            "      <td>After the parents of Ruby and her younger brot...</td>\n",
                            "      <td>9.448517</td>\n",
                            "      <td>[{\"name\": \"Original Film\", \"id\": 333}]</td>\n",
                            "      <td>[{\"iso_3166_1\": \"US\", \"name\": \"United States o...</td>\n",
                            "      <td>2001-09-14</td>\n",
                            "      <td>23619609</td>\n",
                            "      <td>106.0</td>\n",
                            "      <td>[{\"iso_639_1\": \"es\", \"name\": \"Espa\\u00f1ol\"}, ...</td>\n",
                            "      <td>Released</td>\n",
                            "      <td>The glass is about to be shattered...</td>\n",
                            "      <td>The Glass House</td>\n",
                            "      <td>5.4</td>\n",
                            "      <td>201</td>\n",
                            "    </tr>\n",
                            "    <tr>\n",
                            "      <th>6</th>\n",
                            "      <td>260000000</td>\n",
                            "      <td>[{\"id\": 16, \"name\": \"Animation\"}, {\"id\": 10751...</td>\n",
                            "      <td>http://disney.go.com/disneypictures/tangled/</td>\n",
                            "      <td>38757</td>\n",
                            "      <td>[{\"id\": 1562, \"name\": \"hostage\"}, {\"id\": 2343,...</td>\n",
                            "      <td>en</td>\n",
                            "      <td>Tangled</td>\n",
                            "      <td>When the kingdom's most wanted-and most charmi...</td>\n",
                            "      <td>48.681969</td>\n",
                            "      <td>[{\"name\": \"Walt Disney Pictures\", \"id\": 2}, {\"...</td>\n",
                            "      <td>[{\"iso_3166_1\": \"US\", \"name\": \"United States o...</td>\n",
                            "      <td>2010-11-24</td>\n",
                            "      <td>591794936</td>\n",
                            "      <td>100.0</td>\n",
                            "      <td>[{\"iso_639_1\": \"en\", \"name\": \"English\"}]</td>\n",
                            "      <td>Released</td>\n",
                            "      <td>They're taking adventure to new lengths.</td>\n",
                            "      <td>Tangled</td>\n",
                            "      <td>7.4</td>\n",
                            "      <td>3330</td>\n",
                            "    </tr>\n",
                            "  </tbody>\n",
                            "</table>\n",
                            "</div>"
                        ],
                        "text/plain": [
                            "         budget                                             genres  \\\n",
                            "867    54000000  [{\"id\": 80, \"name\": \"Crime\"}, {\"id\": 18, \"name...   \n",
                            "294   100000000  [{\"id\": 16, \"name\": \"Animation\"}, {\"id\": 12, \"...   \n",
                            "1662   18000000                     [{\"id\": 10752, \"name\": \"War\"}]   \n",
                            "2040   30000000  [{\"id\": 18, \"name\": \"Drama\"}, {\"id\": 53, \"name...   \n",
                            "6     260000000  [{\"id\": 16, \"name\": \"Animation\"}, {\"id\": 10751...   \n",
                            "\n",
                            "                                          homepage      id  \\\n",
                            "867           http://www.imdb.com/title/tt0099674/     242   \n",
                            "294                                            NaN  116711   \n",
                            "1662                                           NaN    9665   \n",
                            "2040                                           NaN    2176   \n",
                            "6     http://disney.go.com/disneypictures/tangled/   38757   \n",
                            "\n",
                            "                                               keywords original_language  \\\n",
                            "867   [{\"id\": 131, \"name\": \"italy\"}, {\"id\": 186, \"na...                en   \n",
                            "294   [{\"id\": 2486, \"name\": \"fantasy\"}, {\"id\": 15907...                en   \n",
                            "1662  [{\"id\": 6091, \"name\": \"war\"}, {\"id\": 12425, \"n...                en   \n",
                            "2040  [{\"id\": 387, \"name\": \"california\"}, {\"id\": 115...                en   \n",
                            "6     [{\"id\": 1562, \"name\": \"hostage\"}, {\"id\": 2343,...                en   \n",
                            "\n",
                            "               original_title  \\\n",
                            "867   The Godfather: Part III   \n",
                            "294                      Epic   \n",
                            "1662                    Glory   \n",
                            "2040          The Glass House   \n",
                            "6                     Tangled   \n",
                            "\n",
                            "                                               overview  popularity  \\\n",
                            "867   In the midst of trying to legitimize his busin...   59.194915   \n",
                            "294   A teenager finds herself transported to a deep...   36.711378   \n",
                            "1662  Robert Gould Shaw leads the US Civil War's fir...   16.102271   \n",
                            "2040  After the parents of Ruby and her younger brot...    9.448517   \n",
                            "6     When the kingdom's most wanted-and most charmi...   48.681969   \n",
                            "\n",
                            "                                   production_companies  \\\n",
                            "867           [{\"name\": \"Paramount Pictures\", \"id\": 4}]   \n",
                            "294   [{\"name\": \"Blue Sky Studios\", \"id\": 9383}, {\"n...   \n",
                            "1662  [{\"name\": \"TriStar Pictures\", \"id\": 559}, {\"na...   \n",
                            "2040             [{\"name\": \"Original Film\", \"id\": 333}]   \n",
                            "6     [{\"name\": \"Walt Disney Pictures\", \"id\": 2}, {\"...   \n",
                            "\n",
                            "                                   production_countries release_date  \\\n",
                            "867   [{\"iso_3166_1\": \"IT\", \"name\": \"Italy\"}, {\"iso_...   1990-12-24   \n",
                            "294   [{\"iso_3166_1\": \"US\", \"name\": \"United States o...   2013-05-15   \n",
                            "1662  [{\"iso_3166_1\": \"US\", \"name\": \"United States o...   1989-12-15   \n",
                            "2040  [{\"iso_3166_1\": \"US\", \"name\": \"United States o...   2001-09-14   \n",
                            "6     [{\"iso_3166_1\": \"US\", \"name\": \"United States o...   2010-11-24   \n",
                            "\n",
                            "        revenue  runtime                                   spoken_languages  \\\n",
                            "867   136766062    162.0  [{\"iso_639_1\": \"en\", \"name\": \"English\"}, {\"iso...   \n",
                            "294   268426634    102.0           [{\"iso_639_1\": \"en\", \"name\": \"English\"}]   \n",
                            "1662   26828365    122.0           [{\"iso_639_1\": \"en\", \"name\": \"English\"}]   \n",
                            "2040   23619609    106.0  [{\"iso_639_1\": \"es\", \"name\": \"Espa\\u00f1ol\"}, ...   \n",
                            "6     591794936    100.0           [{\"iso_639_1\": \"en\", \"name\": \"English\"}]   \n",
                            "\n",
                            "        status                                        tagline  \\\n",
                            "867   Released   All the power on earth can't change destiny.   \n",
                            "294   Released       Discover a world beyond your imagination   \n",
                            "1662  Released  Their innocence. Their heritage. Their lives.   \n",
                            "2040  Released          The glass is about to be shattered...   \n",
                            "6     Released       They're taking adventure to new lengths.   \n",
                            "\n",
                            "                        title  vote_average  vote_count  \n",
                            "867   The Godfather: Part III           7.1        1546  \n",
                            "294                      Epic           6.4        1121  \n",
                            "1662                    Glory           7.4         383  \n",
                            "2040          The Glass House           5.4         201  \n",
                            "6                     Tangled           7.4        3330  "
                        ]
                    },
                    "execution_count": 3,
                    "metadata": {},
                    "output_type": "execute_result"
                }
            ],
            "source": [
                "movies.sample(5)"
            ]
        },
        {
            "cell_type": "code",
            "execution_count": 4,
            "metadata": {},
            "outputs": [
                {
                    "data": {
                        "text/html": [
                            "<div>\n",
                            "<style scoped>\n",
                            "    .dataframe tbody tr th:only-of-type {\n",
                            "        vertical-align: middle;\n",
                            "    }\n",
                            "\n",
                            "    .dataframe tbody tr th {\n",
                            "        vertical-align: top;\n",
                            "    }\n",
                            "\n",
                            "    .dataframe thead th {\n",
                            "        text-align: right;\n",
                            "    }\n",
                            "</style>\n",
                            "<table border=\"1\" class=\"dataframe\">\n",
                            "  <thead>\n",
                            "    <tr style=\"text-align: right;\">\n",
                            "      <th></th>\n",
                            "      <th>movie_id</th>\n",
                            "      <th>title</th>\n",
                            "      <th>cast</th>\n",
                            "      <th>crew</th>\n",
                            "    </tr>\n",
                            "  </thead>\n",
                            "  <tbody>\n",
                            "    <tr>\n",
                            "      <th>3480</th>\n",
                            "      <td>8545</td>\n",
                            "      <td>Little Voice</td>\n",
                            "      <td>[{\"cast_id\": 4, \"character\": \"Mari Hoff\", \"cre...</td>\n",
                            "      <td>[{\"credit_id\": \"56e7eae19251410a3a000b5f\", \"de...</td>\n",
                            "    </tr>\n",
                            "    <tr>\n",
                            "      <th>4654</th>\n",
                            "      <td>24869</td>\n",
                            "      <td>Ink</td>\n",
                            "      <td>[{\"cast_id\": 3, \"character\": \"John\", \"credit_i...</td>\n",
                            "      <td>[{\"credit_id\": \"52fe44adc3a368484e030a09\", \"de...</td>\n",
                            "    </tr>\n",
                            "    <tr>\n",
                            "      <th>137</th>\n",
                            "      <td>49444</td>\n",
                            "      <td>Kung Fu Panda 2</td>\n",
                            "      <td>[{\"cast_id\": 5, \"character\": \"Po (voice)\", \"cr...</td>\n",
                            "      <td>[{\"credit_id\": \"57deba7cc3a36813080070c8\", \"de...</td>\n",
                            "    </tr>\n",
                            "    <tr>\n",
                            "      <th>3504</th>\n",
                            "      <td>9282</td>\n",
                            "      <td>11:14</td>\n",
                            "      <td>[{\"cast_id\": 10, \"character\": \"Jack\", \"credit_...</td>\n",
                            "      <td>[{\"credit_id\": \"52fe44e1c3a36847f80af88d\", \"de...</td>\n",
                            "    </tr>\n",
                            "    <tr>\n",
                            "      <th>2463</th>\n",
                            "      <td>318850</td>\n",
                            "      <td>The Young Messiah</td>\n",
                            "      <td>[{\"cast_id\": 12, \"character\": \"Jesus\", \"credit...</td>\n",
                            "      <td>[{\"credit_id\": \"58cd46d0c3a36850e900c1bd\", \"de...</td>\n",
                            "    </tr>\n",
                            "  </tbody>\n",
                            "</table>\n",
                            "</div>"
                        ],
                        "text/plain": [
                            "      movie_id              title  \\\n",
                            "3480      8545       Little Voice   \n",
                            "4654     24869                Ink   \n",
                            "137      49444    Kung Fu Panda 2   \n",
                            "3504      9282              11:14   \n",
                            "2463    318850  The Young Messiah   \n",
                            "\n",
                            "                                                   cast  \\\n",
                            "3480  [{\"cast_id\": 4, \"character\": \"Mari Hoff\", \"cre...   \n",
                            "4654  [{\"cast_id\": 3, \"character\": \"John\", \"credit_i...   \n",
                            "137   [{\"cast_id\": 5, \"character\": \"Po (voice)\", \"cr...   \n",
                            "3504  [{\"cast_id\": 10, \"character\": \"Jack\", \"credit_...   \n",
                            "2463  [{\"cast_id\": 12, \"character\": \"Jesus\", \"credit...   \n",
                            "\n",
                            "                                                   crew  \n",
                            "3480  [{\"credit_id\": \"56e7eae19251410a3a000b5f\", \"de...  \n",
                            "4654  [{\"credit_id\": \"52fe44adc3a368484e030a09\", \"de...  \n",
                            "137   [{\"credit_id\": \"57deba7cc3a36813080070c8\", \"de...  \n",
                            "3504  [{\"credit_id\": \"52fe44e1c3a36847f80af88d\", \"de...  \n",
                            "2463  [{\"credit_id\": \"58cd46d0c3a36850e900c1bd\", \"de...  "
                        ]
                    },
                    "execution_count": 4,
                    "metadata": {},
                    "output_type": "execute_result"
                }
            ],
            "source": [
                "credits.sample(5)"
            ]
        },
        {
            "cell_type": "code",
            "execution_count": 5,
            "metadata": {},
            "outputs": [
                {
                    "name": "stdout",
                    "output_type": "stream",
                    "text": [
                        "<class 'pandas.core.frame.DataFrame'>\n",
                        "RangeIndex: 4803 entries, 0 to 4802\n",
                        "Data columns (total 20 columns):\n",
                        " #   Column                Non-Null Count  Dtype  \n",
                        "---  ------                --------------  -----  \n",
                        " 0   budget                4803 non-null   int64  \n",
                        " 1   genres                4803 non-null   object \n",
                        " 2   homepage              1712 non-null   object \n",
                        " 3   id                    4803 non-null   int64  \n",
                        " 4   keywords              4803 non-null   object \n",
                        " 5   original_language     4803 non-null   object \n",
                        " 6   original_title        4803 non-null   object \n",
                        " 7   overview              4800 non-null   object \n",
                        " 8   popularity            4803 non-null   float64\n",
                        " 9   production_companies  4803 non-null   object \n",
                        " 10  production_countries  4803 non-null   object \n",
                        " 11  release_date          4802 non-null   object \n",
                        " 12  revenue               4803 non-null   int64  \n",
                        " 13  runtime               4801 non-null   float64\n",
                        " 14  spoken_languages      4803 non-null   object \n",
                        " 15  status                4803 non-null   object \n",
                        " 16  tagline               3959 non-null   object \n",
                        " 17  title                 4803 non-null   object \n",
                        " 18  vote_average          4803 non-null   float64\n",
                        " 19  vote_count            4803 non-null   int64  \n",
                        "dtypes: float64(3), int64(4), object(13)\n",
                        "memory usage: 750.6+ KB\n"
                    ]
                }
            ],
            "source": [
                "movies.info()"
            ]
        },
        {
            "cell_type": "code",
            "execution_count": 6,
            "metadata": {},
            "outputs": [
                {
                    "name": "stdout",
                    "output_type": "stream",
                    "text": [
                        "<class 'pandas.core.frame.DataFrame'>\n",
                        "RangeIndex: 4803 entries, 0 to 4802\n",
                        "Data columns (total 4 columns):\n",
                        " #   Column    Non-Null Count  Dtype \n",
                        "---  ------    --------------  ----- \n",
                        " 0   movie_id  4803 non-null   int64 \n",
                        " 1   title     4803 non-null   object\n",
                        " 2   cast      4803 non-null   object\n",
                        " 3   crew      4803 non-null   object\n",
                        "dtypes: int64(1), object(3)\n",
                        "memory usage: 150.2+ KB\n"
                    ]
                }
            ],
            "source": [
                "credits.info()"
            ]
        },
        {
            "cell_type": "markdown",
            "metadata": {},
            "source": [
                "Step 3: Merge both dataset"
            ]
        },
        {
            "cell_type": "code",
            "execution_count": 7,
            "metadata": {},
            "outputs": [],
            "source": [
                "movies = movies.merge(credits, right_on=['movie_id','title'],left_on=['id','title']).drop('movie_id',axis=1)"
            ]
        },
        {
            "cell_type": "code",
            "execution_count": 8,
            "metadata": {},
            "outputs": [
                {
                    "data": {
                        "text/html": [
                            "<div>\n",
                            "<style scoped>\n",
                            "    .dataframe tbody tr th:only-of-type {\n",
                            "        vertical-align: middle;\n",
                            "    }\n",
                            "\n",
                            "    .dataframe tbody tr th {\n",
                            "        vertical-align: top;\n",
                            "    }\n",
                            "\n",
                            "    .dataframe thead th {\n",
                            "        text-align: right;\n",
                            "    }\n",
                            "</style>\n",
                            "<table border=\"1\" class=\"dataframe\">\n",
                            "  <thead>\n",
                            "    <tr style=\"text-align: right;\">\n",
                            "      <th></th>\n",
                            "      <th>budget</th>\n",
                            "      <th>genres</th>\n",
                            "      <th>homepage</th>\n",
                            "      <th>id</th>\n",
                            "      <th>keywords</th>\n",
                            "      <th>original_language</th>\n",
                            "      <th>original_title</th>\n",
                            "      <th>overview</th>\n",
                            "      <th>popularity</th>\n",
                            "      <th>production_companies</th>\n",
                            "      <th>...</th>\n",
                            "      <th>revenue</th>\n",
                            "      <th>runtime</th>\n",
                            "      <th>spoken_languages</th>\n",
                            "      <th>status</th>\n",
                            "      <th>tagline</th>\n",
                            "      <th>title</th>\n",
                            "      <th>vote_average</th>\n",
                            "      <th>vote_count</th>\n",
                            "      <th>cast</th>\n",
                            "      <th>crew</th>\n",
                            "    </tr>\n",
                            "  </thead>\n",
                            "  <tbody>\n",
                            "    <tr>\n",
                            "      <th>0</th>\n",
                            "      <td>237000000</td>\n",
                            "      <td>[{\"id\": 28, \"name\": \"Action\"}, {\"id\": 12, \"nam...</td>\n",
                            "      <td>http://www.avatarmovie.com/</td>\n",
                            "      <td>19995</td>\n",
                            "      <td>[{\"id\": 1463, \"name\": \"culture clash\"}, {\"id\":...</td>\n",
                            "      <td>en</td>\n",
                            "      <td>Avatar</td>\n",
                            "      <td>In the 22nd century, a paraplegic Marine is di...</td>\n",
                            "      <td>150.437577</td>\n",
                            "      <td>[{\"name\": \"Ingenious Film Partners\", \"id\": 289...</td>\n",
                            "      <td>...</td>\n",
                            "      <td>2787965087</td>\n",
                            "      <td>162.0</td>\n",
                            "      <td>[{\"iso_639_1\": \"en\", \"name\": \"English\"}, {\"iso...</td>\n",
                            "      <td>Released</td>\n",
                            "      <td>Enter the World of Pandora.</td>\n",
                            "      <td>Avatar</td>\n",
                            "      <td>7.2</td>\n",
                            "      <td>11800</td>\n",
                            "      <td>[{\"cast_id\": 242, \"character\": \"Jake Sully\", \"...</td>\n",
                            "      <td>[{\"credit_id\": \"52fe48009251416c750aca23\", \"de...</td>\n",
                            "    </tr>\n",
                            "    <tr>\n",
                            "      <th>1</th>\n",
                            "      <td>300000000</td>\n",
                            "      <td>[{\"id\": 12, \"name\": \"Adventure\"}, {\"id\": 14, \"...</td>\n",
                            "      <td>http://disney.go.com/disneypictures/pirates/</td>\n",
                            "      <td>285</td>\n",
                            "      <td>[{\"id\": 270, \"name\": \"ocean\"}, {\"id\": 726, \"na...</td>\n",
                            "      <td>en</td>\n",
                            "      <td>Pirates of the Caribbean: At World's End</td>\n",
                            "      <td>Captain Barbossa, long believed to be dead, ha...</td>\n",
                            "      <td>139.082615</td>\n",
                            "      <td>[{\"name\": \"Walt Disney Pictures\", \"id\": 2}, {\"...</td>\n",
                            "      <td>...</td>\n",
                            "      <td>961000000</td>\n",
                            "      <td>169.0</td>\n",
                            "      <td>[{\"iso_639_1\": \"en\", \"name\": \"English\"}]</td>\n",
                            "      <td>Released</td>\n",
                            "      <td>At the end of the world, the adventure begins.</td>\n",
                            "      <td>Pirates of the Caribbean: At World's End</td>\n",
                            "      <td>6.9</td>\n",
                            "      <td>4500</td>\n",
                            "      <td>[{\"cast_id\": 4, \"character\": \"Captain Jack Spa...</td>\n",
                            "      <td>[{\"credit_id\": \"52fe4232c3a36847f800b579\", \"de...</td>\n",
                            "    </tr>\n",
                            "    <tr>\n",
                            "      <th>2</th>\n",
                            "      <td>245000000</td>\n",
                            "      <td>[{\"id\": 28, \"name\": \"Action\"}, {\"id\": 12, \"nam...</td>\n",
                            "      <td>http://www.sonypictures.com/movies/spectre/</td>\n",
                            "      <td>206647</td>\n",
                            "      <td>[{\"id\": 470, \"name\": \"spy\"}, {\"id\": 818, \"name...</td>\n",
                            "      <td>en</td>\n",
                            "      <td>Spectre</td>\n",
                            "      <td>A cryptic message from Bond’s past sends him o...</td>\n",
                            "      <td>107.376788</td>\n",
                            "      <td>[{\"name\": \"Columbia Pictures\", \"id\": 5}, {\"nam...</td>\n",
                            "      <td>...</td>\n",
                            "      <td>880674609</td>\n",
                            "      <td>148.0</td>\n",
                            "      <td>[{\"iso_639_1\": \"fr\", \"name\": \"Fran\\u00e7ais\"},...</td>\n",
                            "      <td>Released</td>\n",
                            "      <td>A Plan No One Escapes</td>\n",
                            "      <td>Spectre</td>\n",
                            "      <td>6.3</td>\n",
                            "      <td>4466</td>\n",
                            "      <td>[{\"cast_id\": 1, \"character\": \"James Bond\", \"cr...</td>\n",
                            "      <td>[{\"credit_id\": \"54805967c3a36829b5002c41\", \"de...</td>\n",
                            "    </tr>\n",
                            "    <tr>\n",
                            "      <th>3</th>\n",
                            "      <td>250000000</td>\n",
                            "      <td>[{\"id\": 28, \"name\": \"Action\"}, {\"id\": 80, \"nam...</td>\n",
                            "      <td>http://www.thedarkknightrises.com/</td>\n",
                            "      <td>49026</td>\n",
                            "      <td>[{\"id\": 849, \"name\": \"dc comics\"}, {\"id\": 853,...</td>\n",
                            "      <td>en</td>\n",
                            "      <td>The Dark Knight Rises</td>\n",
                            "      <td>Following the death of District Attorney Harve...</td>\n",
                            "      <td>112.312950</td>\n",
                            "      <td>[{\"name\": \"Legendary Pictures\", \"id\": 923}, {\"...</td>\n",
                            "      <td>...</td>\n",
                            "      <td>1084939099</td>\n",
                            "      <td>165.0</td>\n",
                            "      <td>[{\"iso_639_1\": \"en\", \"name\": \"English\"}]</td>\n",
                            "      <td>Released</td>\n",
                            "      <td>The Legend Ends</td>\n",
                            "      <td>The Dark Knight Rises</td>\n",
                            "      <td>7.6</td>\n",
                            "      <td>9106</td>\n",
                            "      <td>[{\"cast_id\": 2, \"character\": \"Bruce Wayne / Ba...</td>\n",
                            "      <td>[{\"credit_id\": \"52fe4781c3a36847f81398c3\", \"de...</td>\n",
                            "    </tr>\n",
                            "    <tr>\n",
                            "      <th>4</th>\n",
                            "      <td>260000000</td>\n",
                            "      <td>[{\"id\": 28, \"name\": \"Action\"}, {\"id\": 12, \"nam...</td>\n",
                            "      <td>http://movies.disney.com/john-carter</td>\n",
                            "      <td>49529</td>\n",
                            "      <td>[{\"id\": 818, \"name\": \"based on novel\"}, {\"id\":...</td>\n",
                            "      <td>en</td>\n",
                            "      <td>John Carter</td>\n",
                            "      <td>John Carter is a war-weary, former military ca...</td>\n",
                            "      <td>43.926995</td>\n",
                            "      <td>[{\"name\": \"Walt Disney Pictures\", \"id\": 2}]</td>\n",
                            "      <td>...</td>\n",
                            "      <td>284139100</td>\n",
                            "      <td>132.0</td>\n",
                            "      <td>[{\"iso_639_1\": \"en\", \"name\": \"English\"}]</td>\n",
                            "      <td>Released</td>\n",
                            "      <td>Lost in our world, found in another.</td>\n",
                            "      <td>John Carter</td>\n",
                            "      <td>6.1</td>\n",
                            "      <td>2124</td>\n",
                            "      <td>[{\"cast_id\": 5, \"character\": \"John Carter\", \"c...</td>\n",
                            "      <td>[{\"credit_id\": \"52fe479ac3a36847f813eaa3\", \"de...</td>\n",
                            "    </tr>\n",
                            "  </tbody>\n",
                            "</table>\n",
                            "<p>5 rows × 22 columns</p>\n",
                            "</div>"
                        ],
                        "text/plain": [
                            "      budget                                             genres  \\\n",
                            "0  237000000  [{\"id\": 28, \"name\": \"Action\"}, {\"id\": 12, \"nam...   \n",
                            "1  300000000  [{\"id\": 12, \"name\": \"Adventure\"}, {\"id\": 14, \"...   \n",
                            "2  245000000  [{\"id\": 28, \"name\": \"Action\"}, {\"id\": 12, \"nam...   \n",
                            "3  250000000  [{\"id\": 28, \"name\": \"Action\"}, {\"id\": 80, \"nam...   \n",
                            "4  260000000  [{\"id\": 28, \"name\": \"Action\"}, {\"id\": 12, \"nam...   \n",
                            "\n",
                            "                                       homepage      id  \\\n",
                            "0                   http://www.avatarmovie.com/   19995   \n",
                            "1  http://disney.go.com/disneypictures/pirates/     285   \n",
                            "2   http://www.sonypictures.com/movies/spectre/  206647   \n",
                            "3            http://www.thedarkknightrises.com/   49026   \n",
                            "4          http://movies.disney.com/john-carter   49529   \n",
                            "\n",
                            "                                            keywords original_language  \\\n",
                            "0  [{\"id\": 1463, \"name\": \"culture clash\"}, {\"id\":...                en   \n",
                            "1  [{\"id\": 270, \"name\": \"ocean\"}, {\"id\": 726, \"na...                en   \n",
                            "2  [{\"id\": 470, \"name\": \"spy\"}, {\"id\": 818, \"name...                en   \n",
                            "3  [{\"id\": 849, \"name\": \"dc comics\"}, {\"id\": 853,...                en   \n",
                            "4  [{\"id\": 818, \"name\": \"based on novel\"}, {\"id\":...                en   \n",
                            "\n",
                            "                             original_title  \\\n",
                            "0                                    Avatar   \n",
                            "1  Pirates of the Caribbean: At World's End   \n",
                            "2                                   Spectre   \n",
                            "3                     The Dark Knight Rises   \n",
                            "4                               John Carter   \n",
                            "\n",
                            "                                            overview  popularity  \\\n",
                            "0  In the 22nd century, a paraplegic Marine is di...  150.437577   \n",
                            "1  Captain Barbossa, long believed to be dead, ha...  139.082615   \n",
                            "2  A cryptic message from Bond’s past sends him o...  107.376788   \n",
                            "3  Following the death of District Attorney Harve...  112.312950   \n",
                            "4  John Carter is a war-weary, former military ca...   43.926995   \n",
                            "\n",
                            "                                production_companies  ...     revenue runtime  \\\n",
                            "0  [{\"name\": \"Ingenious Film Partners\", \"id\": 289...  ...  2787965087   162.0   \n",
                            "1  [{\"name\": \"Walt Disney Pictures\", \"id\": 2}, {\"...  ...   961000000   169.0   \n",
                            "2  [{\"name\": \"Columbia Pictures\", \"id\": 5}, {\"nam...  ...   880674609   148.0   \n",
                            "3  [{\"name\": \"Legendary Pictures\", \"id\": 923}, {\"...  ...  1084939099   165.0   \n",
                            "4        [{\"name\": \"Walt Disney Pictures\", \"id\": 2}]  ...   284139100   132.0   \n",
                            "\n",
                            "                                    spoken_languages    status  \\\n",
                            "0  [{\"iso_639_1\": \"en\", \"name\": \"English\"}, {\"iso...  Released   \n",
                            "1           [{\"iso_639_1\": \"en\", \"name\": \"English\"}]  Released   \n",
                            "2  [{\"iso_639_1\": \"fr\", \"name\": \"Fran\\u00e7ais\"},...  Released   \n",
                            "3           [{\"iso_639_1\": \"en\", \"name\": \"English\"}]  Released   \n",
                            "4           [{\"iso_639_1\": \"en\", \"name\": \"English\"}]  Released   \n",
                            "\n",
                            "                                          tagline  \\\n",
                            "0                     Enter the World of Pandora.   \n",
                            "1  At the end of the world, the adventure begins.   \n",
                            "2                           A Plan No One Escapes   \n",
                            "3                                 The Legend Ends   \n",
                            "4            Lost in our world, found in another.   \n",
                            "\n",
                            "                                      title vote_average vote_count  \\\n",
                            "0                                    Avatar          7.2      11800   \n",
                            "1  Pirates of the Caribbean: At World's End          6.9       4500   \n",
                            "2                                   Spectre          6.3       4466   \n",
                            "3                     The Dark Knight Rises          7.6       9106   \n",
                            "4                               John Carter          6.1       2124   \n",
                            "\n",
                            "                                                cast  \\\n",
                            "0  [{\"cast_id\": 242, \"character\": \"Jake Sully\", \"...   \n",
                            "1  [{\"cast_id\": 4, \"character\": \"Captain Jack Spa...   \n",
                            "2  [{\"cast_id\": 1, \"character\": \"James Bond\", \"cr...   \n",
                            "3  [{\"cast_id\": 2, \"character\": \"Bruce Wayne / Ba...   \n",
                            "4  [{\"cast_id\": 5, \"character\": \"John Carter\", \"c...   \n",
                            "\n",
                            "                                                crew  \n",
                            "0  [{\"credit_id\": \"52fe48009251416c750aca23\", \"de...  \n",
                            "1  [{\"credit_id\": \"52fe4232c3a36847f800b579\", \"de...  \n",
                            "2  [{\"credit_id\": \"54805967c3a36829b5002c41\", \"de...  \n",
                            "3  [{\"credit_id\": \"52fe4781c3a36847f81398c3\", \"de...  \n",
                            "4  [{\"credit_id\": \"52fe479ac3a36847f813eaa3\", \"de...  \n",
                            "\n",
                            "[5 rows x 22 columns]"
                        ]
                    },
                    "execution_count": 8,
                    "metadata": {},
                    "output_type": "execute_result"
                }
            ],
            "source": [
                "movies.head()"
            ]
        },
        {
            "cell_type": "code",
            "execution_count": 9,
            "metadata": {},
            "outputs": [
                {
                    "name": "stdout",
                    "output_type": "stream",
                    "text": [
                        "<class 'pandas.core.frame.DataFrame'>\n",
                        "Int64Index: 4803 entries, 0 to 4802\n",
                        "Data columns (total 22 columns):\n",
                        " #   Column                Non-Null Count  Dtype  \n",
                        "---  ------                --------------  -----  \n",
                        " 0   budget                4803 non-null   int64  \n",
                        " 1   genres                4803 non-null   object \n",
                        " 2   homepage              1712 non-null   object \n",
                        " 3   id                    4803 non-null   int64  \n",
                        " 4   keywords              4803 non-null   object \n",
                        " 5   original_language     4803 non-null   object \n",
                        " 6   original_title        4803 non-null   object \n",
                        " 7   overview              4800 non-null   object \n",
                        " 8   popularity            4803 non-null   float64\n",
                        " 9   production_companies  4803 non-null   object \n",
                        " 10  production_countries  4803 non-null   object \n",
                        " 11  release_date          4802 non-null   object \n",
                        " 12  revenue               4803 non-null   int64  \n",
                        " 13  runtime               4801 non-null   float64\n",
                        " 14  spoken_languages      4803 non-null   object \n",
                        " 15  status                4803 non-null   object \n",
                        " 16  tagline               3959 non-null   object \n",
                        " 17  title                 4803 non-null   object \n",
                        " 18  vote_average          4803 non-null   float64\n",
                        " 19  vote_count            4803 non-null   int64  \n",
                        " 20  cast                  4803 non-null   object \n",
                        " 21  crew                  4803 non-null   object \n",
                        "dtypes: float64(3), int64(4), object(15)\n",
                        "memory usage: 863.0+ KB\n"
                    ]
                }
            ],
            "source": [
                "movies.info()"
            ]
        },
        {
            "cell_type": "markdown",
            "metadata": {},
            "source": [
                "Step 4: select the variables."
            ]
        },
        {
            "cell_type": "code",
            "execution_count": 10,
            "metadata": {},
            "outputs": [],
            "source": [
                "movies = movies[['id','title','overview','genres','keywords','cast','crew']]"
            ]
        },
        {
            "cell_type": "markdown",
            "metadata": {},
            "source": [
                "Step 5: explore the final variables"
            ]
        },
        {
            "cell_type": "code",
            "execution_count": 11,
            "metadata": {},
            "outputs": [
                {
                    "data": {
                        "text/html": [
                            "<div>\n",
                            "<style scoped>\n",
                            "    .dataframe tbody tr th:only-of-type {\n",
                            "        vertical-align: middle;\n",
                            "    }\n",
                            "\n",
                            "    .dataframe tbody tr th {\n",
                            "        vertical-align: top;\n",
                            "    }\n",
                            "\n",
                            "    .dataframe thead th {\n",
                            "        text-align: right;\n",
                            "    }\n",
                            "</style>\n",
                            "<table border=\"1\" class=\"dataframe\">\n",
                            "  <thead>\n",
                            "    <tr style=\"text-align: right;\">\n",
                            "      <th></th>\n",
                            "      <th>id</th>\n",
                            "      <th>title</th>\n",
                            "      <th>overview</th>\n",
                            "      <th>genres</th>\n",
                            "      <th>keywords</th>\n",
                            "      <th>cast</th>\n",
                            "      <th>crew</th>\n",
                            "    </tr>\n",
                            "  </thead>\n",
                            "  <tbody>\n",
                            "    <tr>\n",
                            "      <th>179</th>\n",
                            "      <td>270946</td>\n",
                            "      <td>Penguins of Madagascar</td>\n",
                            "      <td>Skipper, Kowalski, Rico and Private join force...</td>\n",
                            "      <td>[{\"id\": 10751, \"name\": \"Family\"}, {\"id\": 16, \"...</td>\n",
                            "      <td>[{\"id\": 3028, \"name\": \"penguin\"}, {\"id\": 3645,...</td>\n",
                            "      <td>[{\"cast_id\": 8, \"character\": \"Skipper (voice)\"...</td>\n",
                            "      <td>[{\"credit_id\": \"5483ba4d92514175f5002c15\", \"de...</td>\n",
                            "    </tr>\n",
                            "    <tr>\n",
                            "      <th>350</th>\n",
                            "      <td>4327</td>\n",
                            "      <td>Charlie's Angels</td>\n",
                            "      <td>Aspects of this take on the 1970s hit TV serie...</td>\n",
                            "      <td>[{\"id\": 28, \"name\": \"Action\"}, {\"id\": 12, \"nam...</td>\n",
                            "      <td>[{\"id\": 779, \"name\": \"martial arts\"}, {\"id\": 5...</td>\n",
                            "      <td>[{\"cast_id\": 1, \"character\": \"Natalie Cook\", \"...</td>\n",
                            "      <td>[{\"credit_id\": \"52fe43bac3a36847f806b227\", \"de...</td>\n",
                            "    </tr>\n",
                            "    <tr>\n",
                            "      <th>4239</th>\n",
                            "      <td>39541</td>\n",
                            "      <td>Stolen Summer</td>\n",
                            "      <td>Pete, an eight-year-old Catholic boy growing u...</td>\n",
                            "      <td>[{\"id\": 18, \"name\": \"Drama\"}, {\"id\": 10751, \"n...</td>\n",
                            "      <td>[]</td>\n",
                            "      <td>[{\"cast_id\": 3, \"character\": \"Joe O'Malley\", \"...</td>\n",
                            "      <td>[{\"credit_id\": \"52fe47249251416c9106b639\", \"de...</td>\n",
                            "    </tr>\n",
                            "    <tr>\n",
                            "      <th>4552</th>\n",
                            "      <td>117942</td>\n",
                            "      <td>Girls Gone Dead</td>\n",
                            "      <td>A group of six ex-high school cheerleaders are...</td>\n",
                            "      <td>[{\"id\": 27, \"name\": \"Horror\"}, {\"id\": 35, \"nam...</td>\n",
                            "      <td>[]</td>\n",
                            "      <td>[{\"cast_id\": 24, \"character\": \"Rebecca Foster\"...</td>\n",
                            "      <td>[{\"credit_id\": \"52fe4bc4c3a36847f821312d\", \"de...</td>\n",
                            "    </tr>\n",
                            "    <tr>\n",
                            "      <th>2399</th>\n",
                            "      <td>175541</td>\n",
                            "      <td>Black Nativity</td>\n",
                            "      <td>A street-wise teen from Baltimore who has been...</td>\n",
                            "      <td>[{\"id\": 18, \"name\": \"Drama\"}, {\"id\": 10402, \"n...</td>\n",
                            "      <td>[{\"id\": 4344, \"name\": \"musical\"}, {\"id\": 15837...</td>\n",
                            "      <td>[{\"cast_id\": 2, \"character\": \"Reverend Cornell...</td>\n",
                            "      <td>[{\"credit_id\": \"52fe4d60c3a36847f825d973\", \"de...</td>\n",
                            "    </tr>\n",
                            "  </tbody>\n",
                            "</table>\n",
                            "</div>"
                        ],
                        "text/plain": [
                            "          id                   title  \\\n",
                            "179   270946  Penguins of Madagascar   \n",
                            "350     4327        Charlie's Angels   \n",
                            "4239   39541           Stolen Summer   \n",
                            "4552  117942         Girls Gone Dead   \n",
                            "2399  175541          Black Nativity   \n",
                            "\n",
                            "                                               overview  \\\n",
                            "179   Skipper, Kowalski, Rico and Private join force...   \n",
                            "350   Aspects of this take on the 1970s hit TV serie...   \n",
                            "4239  Pete, an eight-year-old Catholic boy growing u...   \n",
                            "4552  A group of six ex-high school cheerleaders are...   \n",
                            "2399  A street-wise teen from Baltimore who has been...   \n",
                            "\n",
                            "                                                 genres  \\\n",
                            "179   [{\"id\": 10751, \"name\": \"Family\"}, {\"id\": 16, \"...   \n",
                            "350   [{\"id\": 28, \"name\": \"Action\"}, {\"id\": 12, \"nam...   \n",
                            "4239  [{\"id\": 18, \"name\": \"Drama\"}, {\"id\": 10751, \"n...   \n",
                            "4552  [{\"id\": 27, \"name\": \"Horror\"}, {\"id\": 35, \"nam...   \n",
                            "2399  [{\"id\": 18, \"name\": \"Drama\"}, {\"id\": 10402, \"n...   \n",
                            "\n",
                            "                                               keywords  \\\n",
                            "179   [{\"id\": 3028, \"name\": \"penguin\"}, {\"id\": 3645,...   \n",
                            "350   [{\"id\": 779, \"name\": \"martial arts\"}, {\"id\": 5...   \n",
                            "4239                                                 []   \n",
                            "4552                                                 []   \n",
                            "2399  [{\"id\": 4344, \"name\": \"musical\"}, {\"id\": 15837...   \n",
                            "\n",
                            "                                                   cast  \\\n",
                            "179   [{\"cast_id\": 8, \"character\": \"Skipper (voice)\"...   \n",
                            "350   [{\"cast_id\": 1, \"character\": \"Natalie Cook\", \"...   \n",
                            "4239  [{\"cast_id\": 3, \"character\": \"Joe O'Malley\", \"...   \n",
                            "4552  [{\"cast_id\": 24, \"character\": \"Rebecca Foster\"...   \n",
                            "2399  [{\"cast_id\": 2, \"character\": \"Reverend Cornell...   \n",
                            "\n",
                            "                                                   crew  \n",
                            "179   [{\"credit_id\": \"5483ba4d92514175f5002c15\", \"de...  \n",
                            "350   [{\"credit_id\": \"52fe43bac3a36847f806b227\", \"de...  \n",
                            "4239  [{\"credit_id\": \"52fe47249251416c9106b639\", \"de...  \n",
                            "4552  [{\"credit_id\": \"52fe4bc4c3a36847f821312d\", \"de...  \n",
                            "2399  [{\"credit_id\": \"52fe4d60c3a36847f825d973\", \"de...  "
                        ]
                    },
                    "execution_count": 11,
                    "metadata": {},
                    "output_type": "execute_result"
                }
            ],
            "source": [
                "movies.sample(5)"
            ]
        },
        {
            "cell_type": "code",
            "execution_count": 12,
            "metadata": {},
            "outputs": [
                {
                    "name": "stdout",
                    "output_type": "stream",
                    "text": [
                        "<class 'pandas.core.frame.DataFrame'>\n",
                        "Int64Index: 4803 entries, 0 to 4802\n",
                        "Data columns (total 7 columns):\n",
                        " #   Column    Non-Null Count  Dtype \n",
                        "---  ------    --------------  ----- \n",
                        " 0   id        4803 non-null   int64 \n",
                        " 1   title     4803 non-null   object\n",
                        " 2   overview  4800 non-null   object\n",
                        " 3   genres    4803 non-null   object\n",
                        " 4   keywords  4803 non-null   object\n",
                        " 5   cast      4803 non-null   object\n",
                        " 6   crew      4803 non-null   object\n",
                        "dtypes: int64(1), object(6)\n",
                        "memory usage: 300.2+ KB\n"
                    ]
                }
            ],
            "source": [
                "movies.info()"
            ]
        },
        {
            "cell_type": "code",
            "execution_count": 13,
            "metadata": {},
            "outputs": [],
            "source": [
                "movies.dropna(inplace=True)\n",
                "movies.reset_index(inplace=True)"
            ]
        },
        {
            "cell_type": "markdown",
            "metadata": {},
            "source": [
                "Step 6: dataset transform"
            ]
        },
        {
            "cell_type": "code",
            "execution_count": 14,
            "metadata": {},
            "outputs": [],
            "source": [
                "def convert(obj):\n",
                "    L = []\n",
                "    for i in ast.literal_eval(obj):\n",
                "        L.append(i['name'])\n",
                "    return L"
            ]
        },
        {
            "cell_type": "code",
            "execution_count": 17,
            "metadata": {},
            "outputs": [],
            "source": [
                "movies['genres'] = movies['genres'].apply(convert)\n",
                "movies['keywords'] = movies['keywords'].apply(convert)"
            ]
        },
        {
            "cell_type": "code",
            "execution_count": 18,
            "metadata": {},
            "outputs": [],
            "source": [
                "def convert3(obj):\n",
                "    L = []\n",
                "    count = 0\n",
                "    for i in ast.literal_eval(obj):\n",
                "        if count < 3:\n",
                "            L.append(i['name'])\n",
                "        count +=1  \n",
                "    return L"
            ]
        },
        {
            "cell_type": "code",
            "execution_count": 19,
            "metadata": {},
            "outputs": [],
            "source": [
                "movies['cast'] = movies['cast'].apply(convert3)"
            ]
        },
        {
            "cell_type": "code",
            "execution_count": 20,
            "metadata": {},
            "outputs": [],
            "source": [
                "def fetch_director(obj):\n",
                "    L = []\n",
                "    for i in ast.literal_eval(obj):\n",
                "        if i['job'] == 'Director':\n",
                "            L.append(i['name'])\n",
                "            break\n",
                "    return L"
            ]
        },
        {
            "cell_type": "code",
            "execution_count": 21,
            "metadata": {},
            "outputs": [],
            "source": [
                "movies['crew'] = movies['crew'].apply(fetch_director)"
            ]
        },
        {
            "cell_type": "code",
            "execution_count": 23,
            "metadata": {},
            "outputs": [],
            "source": [
                "movies['overview'] = movies['overview'].apply(lambda x : x.split())"
            ]
        },
        {
            "cell_type": "markdown",
            "metadata": {},
            "source": [
                "Step 7: remove the space from all the strings except title"
            ]
        },
        {
            "cell_type": "code",
            "execution_count": 25,
            "metadata": {},
            "outputs": [],
            "source": [
                "def collapse(L):\n",
                "    L1 = []\n",
                "    for i in L:\n",
                "        L1.append(i.replace(\" \",\"\"))\n",
                "    return L1"
            ]
        },
        {
            "cell_type": "code",
            "execution_count": 26,
            "metadata": {},
            "outputs": [],
            "source": [
                "movies['cast'] = movies['cast'].apply(collapse)\n",
                "movies['crew'] = movies['crew'].apply(collapse)\n",
                "movies['genres'] = movies['genres'].apply(collapse)\n",
                "movies['keywords'] = movies['keywords'].apply(collapse)"
            ]
        },
        {
            "cell_type": "markdown",
            "metadata": {},
            "source": [
                "Step 8: combine columns into one column named 'tags'"
            ]
        },
        {
            "cell_type": "code",
            "execution_count": 27,
            "metadata": {},
            "outputs": [],
            "source": [
                "movies['tags'] = movies['overview']+movies['genres']+movies['keywords']+movies['cast']+movies['crew']"
            ]
        },
        {
            "cell_type": "code",
            "execution_count": 28,
            "metadata": {},
            "outputs": [],
            "source": [
                "new_df = movies[['id','title','tags']].copy()\n",
                "\n",
                "new_df['tags'] = new_df['tags'].apply(lambda x :\" \".join(x))"
            ]
        },
        {
            "cell_type": "markdown",
            "metadata": {},
            "source": [
                "Step 9: tokenization of column 'tags'"
            ]
        },
        {
            "cell_type": "code",
            "execution_count": 29,
            "metadata": {},
            "outputs": [],
            "source": [
                "cv = CountVectorizer(max_features=5000 ,stop_words='english')"
            ]
        },
        {
            "cell_type": "code",
            "execution_count": 31,
            "metadata": {},
            "outputs": [
                {
                    "data": {
                        "text/plain": [
                            "(4800, 5000)"
                        ]
                    },
                    "execution_count": 31,
                    "metadata": {},
                    "output_type": "execute_result"
                }
            ],
            "source": [
                "vectors = cv.fit_transform(new_df['tags']).toarray()\n",
                "vectors.shape"
            ]
        },
        {
            "cell_type": "code",
            "execution_count": 32,
            "metadata": {},
            "outputs": [
                {
                    "data": {
                        "text/plain": [
                            "array(['000', '007', '10', ..., 'zone', 'zoo', 'zooeydeschanel'],\n",
                            "      dtype=object)"
                        ]
                    },
                    "execution_count": 32,
                    "metadata": {},
                    "output_type": "execute_result"
                }
            ],
            "source": [
                "cv.get_feature_names_out()"
            ]
        },
        {
            "cell_type": "markdown",
            "metadata": {},
            "source": [
                "Step 10: compare"
            ]
        },
        {
            "cell_type": "code",
            "execution_count": 33,
            "metadata": {},
            "outputs": [
                {
                    "data": {
                        "text/plain": [
                            "(4800, 4800)"
                        ]
                    },
                    "execution_count": 33,
                    "metadata": {},
                    "output_type": "execute_result"
                }
            ],
            "source": [
                "cosine_similarity(vectors).shape"
            ]
        },
        {
            "cell_type": "code",
            "execution_count": 34,
            "metadata": {},
            "outputs": [],
            "source": [
                "similarity = cosine_similarity(vectors)"
            ]
        },
        {
            "cell_type": "code",
            "execution_count": 35,
            "metadata": {},
            "outputs": [
                {
                    "data": {
                        "text/plain": [
                            "array([1.        , 0.08980265, 0.05986843, ..., 0.02457366, 0.02777778,\n",
                            "       0.        ])"
                        ]
                    },
                    "execution_count": 35,
                    "metadata": {},
                    "output_type": "execute_result"
                }
            ],
            "source": [
                "similarity[0] # similarity between the label of the first film and the other films, one by one. "
            ]
        },
        {
            "cell_type": "code",
            "execution_count": 36,
            "metadata": {},
            "outputs": [
                {
                    "name": "stdout",
                    "output_type": "stream",
                    "text": [
                        "The six tags with the greatest similarity to the first are:\n"
                    ]
                },
                {
                    "data": {
                        "text/plain": [
                            "[(539, 0.25724787771376323),\n",
                            " (1191, 0.2545875386086578),\n",
                            " (507, 0.24948506639458295),\n",
                            " (1213, 0.24595492912420727),\n",
                            " (260, 0.2434322477800738)]"
                        ]
                    },
                    "execution_count": 36,
                    "metadata": {},
                    "output_type": "execute_result"
                }
            ],
            "source": [
                "print('The six tags with the greatest similarity to the first are:')\n",
                "sorted(list(enumerate(similarity[0])),reverse =True , key = lambda x:x[1])[1:6]"
            ]
        },
        {
            "cell_type": "markdown",
            "metadata": {},
            "source": [
                "Step 11: Finally, create a recommendation function based on the cosine_similarity. This function should recommend the 5 most similar movies."
            ]
        },
        {
            "cell_type": "code",
            "execution_count": 37,
            "metadata": {},
            "outputs": [],
            "source": [
                "def recommend(movie):\n",
                "    movie_index = new_df[new_df['title'] == movie].index[0] ##fetching the movie index\n",
                "    distances = similarity[movie_index]\n",
                "    movie_list = sorted(list(enumerate( distances)),reverse =True , key = lambda x:x[1])[1:6]\n",
                "    \n",
                "    for i in movie_list:\n",
                "        print(new_df.iloc[i[0]].title)"
            ]
        },
        {
            "cell_type": "markdown",
            "metadata": {},
            "source": [
                "Step 12: Check your recommender system by introducing a movie. Run to see the recommendations."
            ]
        },
        {
            "cell_type": "code",
            "execution_count": 39,
            "metadata": {},
            "outputs": [
                {
                    "name": "stdout",
                    "output_type": "stream",
                    "text": [
                        "30 Minutes or Less\n",
                        "The Helix... Loaded\n",
                        "Jonah: A VeggieTales Movie\n",
                        "Small Soldiers\n",
                        "MacGruber\n"
                    ]
                }
            ],
            "source": [
                "recommend('Silver Medalist')"
            ]
        },
        {
            "cell_type": "code",
            "execution_count": 41,
            "metadata": {},
            "outputs": [
                {
                    "name": "stdout",
                    "output_type": "stream",
                    "text": [
                        "Mirrormask\n",
                        "Rise of the Guardians\n",
                        "Return to Never Land\n",
                        "Foodfight!\n",
                        "The Brave Little Toaster\n"
                    ]
                }
            ],
            "source": [
                "recommend('Epic')"
            ]
        }
    ],
    "metadata": {
        "kernelspec": {
            "display_name": "Python 3.8.13 64-bit ('3.8.13')",
            "language": "python",
            "name": "python3"
        },
        "language_info": {
            "codemirror_mode": {
                "name": "ipython",
                "version": 3
            },
            "file_extension": ".py",
            "mimetype": "text/x-python",
            "name": "python",
            "nbconvert_exporter": "python",
            "pygments_lexer": "ipython3",
            "version": "3.8.13"
        },
        "orig_nbformat": 4,
        "vscode": {
            "interpreter": {
                "hash": "110cc1dee26208153f2972f08a2ad52b6a56238dc66d48e87fb757ef2996db56"
            }
        }
    },
    "nbformat": 4,
    "nbformat_minor": 2
}
